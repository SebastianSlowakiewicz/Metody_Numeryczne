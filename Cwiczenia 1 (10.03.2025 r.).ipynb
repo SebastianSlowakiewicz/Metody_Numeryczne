{
  "cells": [
    {
      "cell_type": "markdown",
      "id": "afraid-physiology",
      "metadata": {},
      "source": [
        "# Wprowadzenie do obliczeń w Pythonie"
      ]
    },
    {
      "cell_type": "markdown",
      "id": "unique-attack",
      "metadata": {},
      "source": [
        "## Ćwiczenia\n",
        "Ćwiczenia należy wykonywać w środowisku Python 3. Instrukcję będą miały formę notatników Jupyter Notebook, ale same polecenia można wykonywać w dowolnym IDE (osoby znające Matlaba mogą skorzystać z edytora [Spyder](https://www.spyder-ide.org), który posiada układ podobny do produktu firmy Mathworks).\n",
        "### Python vs Matlab\n",
        "W kontekście obliczeń numerycznych oba środowiska są do siebie podobne. W 90% przypadków nazwy funkcji, kolejność argumentów i sposób rozwiązania danego problemu będą takie same w obu środowiskach. Istnieje jednak kilka różnic, o których należy pamiętać:\n",
        "* Matlab jest narzędziem stworzonym specjalnie do obliczeń, Python to język programowania ogólnego przeznaczenia.\n",
        "* W Pythonie do wykonywania obliczeń i wizualizacji wykorzystuje się biblioteki takie jak NumPy, SciPy, SymPy, Matplotlib, Seaborn itd. W Matlabie większość funkcjonalności jest dostępna \"od ręki\" (chociaż istnieją też płatne dodatki).\n",
        "* W Matlabie tablice/macierze są indeksowane od **1** (tak jak np. w języku Pascal), w Pythonie pierwszy element kolekcji znajduje się na pozycji **0** (tak jak w większości języków programowania ogólnego przeznaczenia, np. C, C++, Java, Kotlin, Swift).\n",
        "* Sposób mnożenia macierzy (temat zostanie poruszony na jednych z kolejnych zajęć).\n",
        "Ciekawy zestaw przykładów pokazujący różnice pomiędzy Pythonem i Matlabem (a także Julią) znajdziecie Państwo na [tutaj](https://cheatsheets.quantecon.org)."
      ]
    },
    {
      "cell_type": "markdown",
      "id": "saved-choice",
      "metadata": {},
      "source": [
        "# Obliczenia numeryczne w Pythonie"
      ]
    },
    {
      "cell_type": "markdown",
      "id": "local-notice",
      "metadata": {},
      "source": [
        "Podstawowym pakietem do obliczeń naukowych w Pythonie jest *numpy*. Zwyczajowo importuje się go w następujący sposób:"
      ]
    },
    {
      "cell_type": "code",
      "execution_count": 1,
      "id": "occasional-firewall",
      "metadata": {
        "trusted": true
      },
      "outputs": [],
      "source": [
        "import numpy as np"
      ]
    },
    {
      "cell_type": "markdown",
      "id": "illegal-catalog",
      "metadata": {},
      "source": [
        "**Uwaga.** Niektóre funkcje (np. *sqrt*) występują w więcej niż jednym pakiecie (np. *sqrt* znajduje się zarówno w *math*, jak i w *numpy*). W takich przypadkach zazwyczaj lepiej jest zastosować implementację z *numpy* (o ile jest dostępna)."
      ]
    },
    {
      "cell_type": "code",
      "execution_count": 2,
      "id": "global-explorer",
      "metadata": {
        "trusted": true
      },
      "outputs": [
        {
          "name": "stdout",
          "output_type": "stream",
          "text": [
            "1.4142135623730951\n",
            "1.4142135623730951\n"
          ]
        }
      ],
      "source": [
        "import math\n",
        "\n",
        "print(math.sqrt(2))\n",
        "print((np.sqrt(2)))"
      ]
    },
    {
      "cell_type": "markdown",
      "id": "coated-rabbit",
      "metadata": {},
      "source": [
        "## Typy proste"
      ]
    },
    {
      "cell_type": "markdown",
      "id": "italic-aside",
      "metadata": {},
      "source": [
        "***Zadanie 1.***   \n",
        "Oblicz wartości następujących formuł:\n",
        "  \n",
        "$k = 1240\\sqrt{7}$  \n",
        "$m = 2048$  \n",
        "$l = 2j$  \n",
        "$d = k+2m$  \n",
        "$c = d+l$  \n",
        "  \n",
        "Po wykonaniu obliczeń sprawdź typy danych utworzonych zmiennych (funkcja *type*)"
      ]
    },
    {
      "cell_type": "code",
      "execution_count": 3,
      "id": "healthy-uganda",
      "metadata": {
        "trusted": true
      },
      "outputs": [
        {
          "name": "stdout",
          "output_type": "stream",
          "text": [
            "3280.7316257200923\n",
            "2048\n",
            "2j\n",
            "7376.731625720093\n",
            "(7376.731625720093+2j)\n"
          ]
        }
      ],
      "source": [
        "k = 1240 * np.sqrt(7)\n",
        "m = 2048\n",
        "l = 2j\n",
        "d = k + 2*m\n",
        "c = d + l\n",
        "print(k)\n",
        "print(m)\n",
        "print(l)\n",
        "print(d)\n",
        "print(c)"
      ]
    },
    {
      "cell_type": "code",
      "execution_count": 4,
      "id": "infinite-galaxy",
      "metadata": {
        "trusted": true
      },
      "outputs": [
        {
          "name": "stdout",
          "output_type": "stream",
          "text": [
            "<class 'numpy.float64'>\n",
            "<class 'int'>\n",
            "<class 'complex'>\n",
            "<class 'numpy.float64'>\n",
            "<class 'numpy.complex128'>\n"
          ]
        }
      ],
      "source": [
        "print(type(k))\n",
        "print(type(m))\n",
        "print(type(l))\n",
        "print(type(d))\n",
        "print(type(c))"
      ]
    },
    {
      "cell_type": "markdown",
      "id": "super-shannon",
      "metadata": {},
      "source": [
        "## Formatowanie wyjścia\n",
        "\n",
        "W pracy z liczbami warto wykorzystać formatowanie stringów.\n"
      ]
    },
    {
      "cell_type": "code",
      "execution_count": 5,
      "id": "intelligent-czech",
      "metadata": {
        "trusted": true
      },
      "outputs": [
        {
          "data": {
            "text/plain": [
              "\"a = 3, typ: <class 'int'>\""
            ]
          },
          "execution_count": 5,
          "metadata": {},
          "output_type": "execute_result"
        }
      ],
      "source": [
        "a=3\n",
        "'a = {a}, typ: {t}'.format(a = a, t = type(a))"
      ]
    },
    {
      "cell_type": "markdown",
      "id": "portuguese-cotton",
      "metadata": {},
      "source": [
        "W Pythonie 3.6+ dostępny jest również nowy format zwany *f-String*, który pozwala umieszczać wyrażenia do obliczenia bezpośrednio w łańcuchu."
      ]
    },
    {
      "cell_type": "code",
      "execution_count": 6,
      "id": "stunning-timing",
      "metadata": {
        "trusted": true
      },
      "outputs": [
        {
          "data": {
            "text/plain": [
              "\"a = 3, typ: <class 'int'>, 2 + 2 = 4\""
            ]
          },
          "execution_count": 6,
          "metadata": {},
          "output_type": "execute_result"
        }
      ],
      "source": [
        "f'a = {a}, typ: {type(a)}, 2 + 2 = {2+2}'"
      ]
    },
    {
      "cell_type": "markdown",
      "id": "deluxe-garage",
      "metadata": {},
      "source": [
        "Możliwe jest również sterowanie formatowaniem wartości [liczbowych](https://docs.python.org/3/tutorial/inputoutput.html):"
      ]
    },
    {
      "cell_type": "code",
      "execution_count": 7,
      "id": "accurate-florida",
      "metadata": {
        "trusted": true
      },
      "outputs": [
        {
          "name": "stdout",
          "output_type": "stream",
          "text": [
            "a = 3\n",
            "a = 3.000\n",
            "a = 3.00000000000000000000000000000000000000000000000000\n",
            "\n",
            "b = 4\n",
            "b =          4\n",
            "b =                    4\n"
          ]
        }
      ],
      "source": [
        "# Dla typu float\n",
        "print(f'a = {a}')\n",
        "print(f'a = {a:.3f}')\n",
        "print(f'a = {a:.50f}')\n",
        "b=4\n",
        "#Dla typu int\n",
        "print()\n",
        "print(f'b = {b}')\n",
        "print(f'b = {b:10d}')\n",
        "print(f'b = {b:20d}')"
      ]
    },
    {
      "cell_type": "markdown",
      "id": "international-turning",
      "metadata": {},
      "source": [
        "## Typy tablicowe"
      ]
    },
    {
      "cell_type": "markdown",
      "id": "realistic-nebraska",
      "metadata": {},
      "source": [
        "W bibliotece standardowej Pythona brakuje typu tablicowego (jest jedynie lista), który przydaje się podczas pracy z danymi liczbowymi. Lukę tę wypełnia typ tablicowy z *numpy*. "
      ]
    },
    {
      "cell_type": "code",
      "execution_count": 8,
      "id": "terminal-participant",
      "metadata": {
        "trusted": true
      },
      "outputs": [
        {
          "name": "stdout",
          "output_type": "stream",
          "text": [
            "[1 2 3], typ: <class 'numpy.ndarray'>\n",
            "[[1. 2.]\n",
            " [3. 4.]], typ: <class 'numpy.ndarray'>\n"
          ]
        }
      ],
      "source": [
        "tab = np.array([1,2,3])\n",
        "tab2 = np.array(([1.0,2],[3,4])) # argument w postaci krotki!\n",
        "print(f'{tab}, typ: {type(tab)}')\n",
        "print(f'{tab2}, typ: {type(tab2)}')"
      ]
    },
    {
      "cell_type": "markdown",
      "id": "stuck-committee",
      "metadata": {},
      "source": [
        "Jak widać tablice w *numpy* są obiektami typu *ndarray*. Jest to homogeniczny typ tablicowy, czyli taki, który pozwala przechowywać jedynie dane tego samego typu (w każdej tablicy wszystkie elementy są jednego typu, tak jak np. w C). Dane heterogeniczne można przechowywać np. w strukturze *DataFrame* z biblioteki *Pandas*.\n",
        "Obiekt typu *ndarray* posiada kilka interesujących atrybutów:\n",
        "* *shape* — kształt tablicy, czyli krotka zawierająca liczbę elementów dla każdego wymiaru (osi) tablicy. Wymiary można również sprawdzić za pomocą *np.shape()*.\n",
        "* *size* — sumaryczna liczba elementów.\n",
        "* *ndim* — liczba wymiarów (osi).\n",
        "* *nbytes* — liczba bajtów zajmowana przez obiekt.\n",
        "* *dtype* — typ danych przechowywanych w tablicy. Można go jawnie określić podczas tworzenia tablicy (parametr dtype)\n",
        " "
      ]
    },
    {
      "cell_type": "code",
      "execution_count": 9,
      "id": "smooth-pennsylvania",
      "metadata": {
        "trusted": true
      },
      "outputs": [],
      "source": [
        "def printDetails(arr):\n",
        "    print(f'Tablica {arr}')\n",
        "    print(f'   shape = {arr.shape}')\n",
        "    print(f'   size = {arr.size}')\n",
        "    print(f'   ndim = {arr.ndim}')\n",
        "    print(f'   nbytes = {arr.nbytes}')\n",
        "    print(f'   dtype = {arr.dtype}')\n",
        "    print()"
      ]
    },
    {
      "cell_type": "markdown",
      "id": "fabulous-second",
      "metadata": {},
      "source": [
        "***Uwaga!*** W *numpy* dostępny jest też typ *matrix*. Jest on obecnie uznany za ,,przestarzały'' (ang. *deprecated*) i nie należy z niego korzystać (nawet w zastosowaniach numerycznych, co sugerowałaby jego nazwa)."
      ]
    },
    {
      "cell_type": "code",
      "execution_count": 10,
      "id": "constitutional-witch",
      "metadata": {
        "trusted": true
      },
      "outputs": [
        {
          "name": "stdout",
          "output_type": "stream",
          "text": [
            "Tablica [1 2 3]\n",
            "   shape = (3,)\n",
            "   size = 3\n",
            "   ndim = 1\n",
            "   nbytes = 12\n",
            "   dtype = int32\n",
            "\n",
            "Tablica [[1. 2.]\n",
            " [3. 4.]]\n",
            "   shape = (2, 2)\n",
            "   size = 4\n",
            "   ndim = 2\n",
            "   nbytes = 32\n",
            "   dtype = float64\n",
            "\n"
          ]
        }
      ],
      "source": [
        "printDetails(tab) # Uwaga na shape!\n",
        "printDetails(tab2)\n",
        "\n"
      ]
    },
    {
      "cell_type": "markdown",
      "id": "floating-plenty",
      "metadata": {},
      "source": [
        "#### Zmiana kształtu\n",
        "Do zmiany kształtu tablic służy funkcja *reshape()*. Nowe wymiary muszą odpowiadać liczbie elementów w tablicy!"
      ]
    },
    {
      "cell_type": "code",
      "execution_count": 11,
      "id": "special-contractor",
      "metadata": {
        "trusted": true
      },
      "outputs": [
        {
          "name": "stdout",
          "output_type": "stream",
          "text": [
            "Tablica [[1 2 3]]\n",
            "   shape = (1, 3)\n",
            "   size = 3\n",
            "   ndim = 2\n",
            "   nbytes = 12\n",
            "   dtype = int32\n",
            "\n"
          ]
        }
      ],
      "source": [
        "tab3 = tab.reshape(1,3)\n",
        "printDetails(tab3)\n",
        "\n",
        "tab4 = tab.reshape(3,1)\n",
        "\n"
      ]
    },
    {
      "cell_type": "markdown",
      "id": "documented-amendment",
      "metadata": {},
      "source": [
        "#### Tworzenie tablic"
      ]
    },
    {
      "cell_type": "markdown",
      "id": "confident-purpose",
      "metadata": {},
      "source": [
        "Poza metodą *array*, tablice można utworzyć również z pomocą wielu innych [funkcji](https://numpy.org/doc/stable/reference/routines.array-creation.html#routines-array-creation) m.in.:\n",
        "* *np.zeros()* — tworzy tablicę o zadanym rozmiarze wypełnioną zerami.\n",
        "* *np.ones()* — tworzy tablicę o zadanym rozmiarze wypełnioną jedynkami.\n",
        "* *np.identity()* — tworzy macierz identycznościową o zadanym rozmiarze.\n",
        "* *np.eye()* — tworzy tablicę o zadanym rozmiarze z jedynkami na przekątnej.\n",
        "* **np.linspace()** — tworzy tablicę z równomiernie rozmieszczonymi wartościami znajdującymi się pomiędzy określoną początkową i końcową wartością z użyciem określonej liczby elementów.\n",
        "* *np.fromfile(), np.fromstring(), np.loadtxt()* — tworzy tablice na podstawie danych z plików lub stringów."
      ]
    },
    {
      "cell_type": "code",
      "execution_count": 12,
      "id": "extreme-slovakia",
      "metadata": {
        "trusted": true
      },
      "outputs": [
        {
          "name": "stdout",
          "output_type": "stream",
          "text": [
            "[[0. 0.]\n",
            " [0. 0.]]\n"
          ]
        }
      ],
      "source": [
        "zeros = np.zeros((2,2))\n",
        "print(zeros)"
      ]
    },
    {
      "cell_type": "code",
      "execution_count": 13,
      "id": "encouraging-empty",
      "metadata": {
        "trusted": true
      },
      "outputs": [
        {
          "name": "stdout",
          "output_type": "stream",
          "text": [
            "[[1. 1. 1. 1. 1. 1. 1. 1. 1. 1.]\n",
            " [1. 1. 1. 1. 1. 1. 1. 1. 1. 1.]\n",
            " [1. 1. 1. 1. 1. 1. 1. 1. 1. 1.]\n",
            " [1. 1. 1. 1. 1. 1. 1. 1. 1. 1.]\n",
            " [1. 1. 1. 1. 1. 1. 1. 1. 1. 1.]]\n"
          ]
        }
      ],
      "source": [
        "ones = np.ones([5,10])\n",
        "print(ones)"
      ]
    },
    {
      "cell_type": "code",
      "execution_count": 14,
      "id": "educational-machinery",
      "metadata": {
        "trusted": true
      },
      "outputs": [
        {
          "data": {
            "text/plain": [
              "array([[1., 0., 0., 0., 0., 0., 0., 0., 0., 0.],\n",
              "       [0., 1., 0., 0., 0., 0., 0., 0., 0., 0.],\n",
              "       [0., 0., 1., 0., 0., 0., 0., 0., 0., 0.],\n",
              "       [0., 0., 0., 1., 0., 0., 0., 0., 0., 0.],\n",
              "       [0., 0., 0., 0., 1., 0., 0., 0., 0., 0.],\n",
              "       [0., 0., 0., 0., 0., 1., 0., 0., 0., 0.],\n",
              "       [0., 0., 0., 0., 0., 0., 1., 0., 0., 0.],\n",
              "       [0., 0., 0., 0., 0., 0., 0., 1., 0., 0.],\n",
              "       [0., 0., 0., 0., 0., 0., 0., 0., 1., 0.],\n",
              "       [0., 0., 0., 0., 0., 0., 0., 0., 0., 1.]])"
            ]
          },
          "execution_count": 14,
          "metadata": {},
          "output_type": "execute_result"
        }
      ],
      "source": [
        "np.identity(10)"
      ]
    },
    {
      "cell_type": "code",
      "execution_count": 15,
      "id": "harmful-resource",
      "metadata": {
        "trusted": true
      },
      "outputs": [
        {
          "data": {
            "text/plain": [
              "array([[1., 0., 0., 0., 0., 0., 0., 0., 0., 0.],\n",
              "       [0., 1., 0., 0., 0., 0., 0., 0., 0., 0.],\n",
              "       [0., 0., 1., 0., 0., 0., 0., 0., 0., 0.],\n",
              "       [0., 0., 0., 1., 0., 0., 0., 0., 0., 0.],\n",
              "       [0., 0., 0., 0., 1., 0., 0., 0., 0., 0.],\n",
              "       [0., 0., 0., 0., 0., 1., 0., 0., 0., 0.],\n",
              "       [0., 0., 0., 0., 0., 0., 1., 0., 0., 0.],\n",
              "       [0., 0., 0., 0., 0., 0., 0., 1., 0., 0.],\n",
              "       [0., 0., 0., 0., 0., 0., 0., 0., 1., 0.],\n",
              "       [0., 0., 0., 0., 0., 0., 0., 0., 0., 1.]])"
            ]
          },
          "execution_count": 15,
          "metadata": {},
          "output_type": "execute_result"
        }
      ],
      "source": [
        "np.eye(10)"
      ]
    },
    {
      "cell_type": "code",
      "execution_count": 16,
      "id": "beautiful-subscription",
      "metadata": {
        "trusted": true
      },
      "outputs": [
        {
          "data": {
            "text/plain": [
              "array([ 1.  ,  3.25,  5.5 ,  7.75, 10.  ])"
            ]
          },
          "execution_count": 16,
          "metadata": {},
          "output_type": "execute_result"
        }
      ],
      "source": [
        "np.linspace(1,10,5) # Tablica 5 wartości rozmieszczonych równomiernie w przedziale [1,10]"
      ]
    },
    {
      "cell_type": "markdown",
      "id": "norman-trunk",
      "metadata": {},
      "source": [
        "## Operacje na macierzach"
      ]
    },
    {
      "cell_type": "markdown",
      "id": "lonely-central",
      "metadata": {},
      "source": [
        "### Indeksowanie"
      ]
    },
    {
      "cell_type": "code",
      "execution_count": 17,
      "id": "alert-mobile",
      "metadata": {
        "trusted": true
      },
      "outputs": [
        {
          "name": "stdout",
          "output_type": "stream",
          "text": [
            "[[1 2 3]\n",
            " [4 5 6]\n",
            " [7 8 9]]\n"
          ]
        }
      ],
      "source": [
        "A = np.array(([1,2,3],[4,5,6],[7,8,9]))\n",
        "print(A)"
      ]
    },
    {
      "cell_type": "code",
      "execution_count": 18,
      "id": "progressive-bermuda",
      "metadata": {
        "trusted": true
      },
      "outputs": [
        {
          "data": {
            "text/plain": [
              "np.int32(5)"
            ]
          },
          "execution_count": 18,
          "metadata": {},
          "output_type": "execute_result"
        }
      ],
      "source": [
        "A[1,1]"
      ]
    },
    {
      "cell_type": "code",
      "execution_count": 19,
      "id": "smooth-juice",
      "metadata": {
        "trusted": true
      },
      "outputs": [
        {
          "data": {
            "text/plain": [
              "np.int32(1)"
            ]
          },
          "execution_count": 19,
          "metadata": {},
          "output_type": "execute_result"
        }
      ],
      "source": [
        "A[0,0]"
      ]
    },
    {
      "cell_type": "code",
      "execution_count": 20,
      "id": "civilian-punch",
      "metadata": {
        "trusted": true
      },
      "outputs": [
        {
          "data": {
            "text/plain": [
              "array([[1],\n",
              "       [4]])"
            ]
          },
          "execution_count": 20,
          "metadata": {},
          "output_type": "execute_result"
        }
      ],
      "source": [
        "A[0:2,0:1]"
      ]
    },
    {
      "cell_type": "code",
      "execution_count": 21,
      "id": "becoming-encounter",
      "metadata": {
        "trusted": true
      },
      "outputs": [
        {
          "data": {
            "text/plain": [
              "np.int32(9)"
            ]
          },
          "execution_count": 21,
          "metadata": {},
          "output_type": "execute_result"
        }
      ],
      "source": [
        "A[-1,-1]"
      ]
    },
    {
      "cell_type": "code",
      "execution_count": 22,
      "id": "peripheral-creek",
      "metadata": {
        "trusted": true
      },
      "outputs": [
        {
          "data": {
            "text/plain": [
              "array([6, 7, 8, 9])"
            ]
          },
          "execution_count": 22,
          "metadata": {},
          "output_type": "execute_result"
        }
      ],
      "source": [
        "A[A>5]"
      ]
    },
    {
      "cell_type": "code",
      "execution_count": 23,
      "id": "super-phenomenon",
      "metadata": {
        "trusted": true
      },
      "outputs": [
        {
          "data": {
            "text/plain": [
              "array([2, 4, 6, 8])"
            ]
          },
          "execution_count": 23,
          "metadata": {},
          "output_type": "execute_result"
        }
      ],
      "source": [
        "A[A%2==0]"
      ]
    },
    {
      "cell_type": "code",
      "execution_count": 24,
      "id": "mineral-thumb",
      "metadata": {
        "trusted": true
      },
      "outputs": [
        {
          "data": {
            "text/plain": [
              "array([[ 1,  2,  3],\n",
              "       [ 4,  5, 37],\n",
              "       [37, 37, 37]])"
            ]
          },
          "execution_count": 24,
          "metadata": {},
          "output_type": "execute_result"
        }
      ],
      "source": [
        "B = A\n",
        "B[B>5] = 37 # Indeksowanie wraz z przypisaniem nowej wartości\n",
        "B"
      ]
    },
    {
      "cell_type": "markdown",
      "id": "static-services",
      "metadata": {},
      "source": [
        "### Operacje arytmetyczne"
      ]
    },
    {
      "cell_type": "code",
      "execution_count": 25,
      "id": "circular-oriental",
      "metadata": {
        "trusted": true
      },
      "outputs": [],
      "source": [
        "A = np.array(([1,2,3],[4,5,6],[7,8,9],[10,11,12]))\n",
        "B = np.array(([-1,-2,-3],[-4,-5,-6],[-7,-8,-9],[-10,-11,-12]))\n",
        "C = np.array(([20,21,22,23],[24,25,26,27],[28,29,30,31]))"
      ]
    },
    {
      "cell_type": "code",
      "execution_count": 26,
      "id": "crude-endorsement",
      "metadata": {
        "trusted": true
      },
      "outputs": [
        {
          "name": "stdout",
          "output_type": "stream",
          "text": [
            "[[ 1  2  3]\n",
            " [ 4  5  6]\n",
            " [ 7  8  9]\n",
            " [10 11 12]]\n",
            "[[ -1  -2  -3]\n",
            " [ -4  -5  -6]\n",
            " [ -7  -8  -9]\n",
            " [-10 -11 -12]]\n",
            "[[20 21 22 23]\n",
            " [24 25 26 27]\n",
            " [28 29 30 31]]\n"
          ]
        }
      ],
      "source": [
        "print(A)\n",
        "print(B)\n",
        "print(C)"
      ]
    },
    {
      "cell_type": "code",
      "execution_count": 27,
      "id": "accessory-choir",
      "metadata": {
        "trusted": true
      },
      "outputs": [
        {
          "data": {
            "text/plain": [
              "array([[0, 0, 0],\n",
              "       [0, 0, 0],\n",
              "       [0, 0, 0],\n",
              "       [0, 0, 0]])"
            ]
          },
          "execution_count": 27,
          "metadata": {},
          "output_type": "execute_result"
        }
      ],
      "source": [
        "A+B"
      ]
    },
    {
      "cell_type": "code",
      "execution_count": 28,
      "id": "tracked-concentration",
      "metadata": {
        "trusted": true
      },
      "outputs": [
        {
          "data": {
            "text/plain": [
              "array([[ 2,  4,  6],\n",
              "       [ 8, 10, 12],\n",
              "       [14, 16, 18],\n",
              "       [20, 22, 24]])"
            ]
          },
          "execution_count": 28,
          "metadata": {},
          "output_type": "execute_result"
        }
      ],
      "source": [
        "A-B"
      ]
    },
    {
      "cell_type": "code",
      "execution_count": 29,
      "id": "given-gazette",
      "metadata": {
        "trusted": true
      },
      "outputs": [
        {
          "data": {
            "text/plain": [
              "array([[ -2,  -4,  -6],\n",
              "       [ -8, -10, -12],\n",
              "       [-14, -16, -18],\n",
              "       [-20, -22, -24]])"
            ]
          },
          "execution_count": 29,
          "metadata": {},
          "output_type": "execute_result"
        }
      ],
      "source": [
        "B-A"
      ]
    },
    {
      "cell_type": "code",
      "execution_count": 30,
      "id": "vocational-denial",
      "metadata": {
        "trusted": true
      },
      "outputs": [
        {
          "data": {
            "text/plain": [
              "array([[  -1,   -4,   -9],\n",
              "       [ -16,  -25,  -36],\n",
              "       [ -49,  -64,  -81],\n",
              "       [-100, -121, -144]])"
            ]
          },
          "execution_count": 30,
          "metadata": {},
          "output_type": "execute_result"
        }
      ],
      "source": [
        "A*B # Mnożenie odpowiadających sobie elementów!!"
      ]
    },
    {
      "cell_type": "code",
      "execution_count": 31,
      "id": "cheap-immune",
      "metadata": {
        "trusted": true
      },
      "outputs": [
        {
          "data": {
            "text/plain": [
              "array([[-1., -1., -1.],\n",
              "       [-1., -1., -1.],\n",
              "       [-1., -1., -1.],\n",
              "       [-1., -1., -1.]])"
            ]
          },
          "execution_count": 31,
          "metadata": {},
          "output_type": "execute_result"
        }
      ],
      "source": [
        "A/B # Dzielenie odpowiadających sobie elementów!!"
      ]
    },
    {
      "cell_type": "code",
      "execution_count": 32,
      "id": "demanding-image",
      "metadata": {
        "trusted": true
      },
      "outputs": [
        {
          "ename": "<class 'ValueError'>",
          "evalue": "operands could not be broadcast together with shapes (4,3) (3,4) ",
          "output_type": "error",
          "traceback": [
            "\u001b[0;31m---------------------------------------------------------------------------\u001b[0m",
            "\u001b[0;31mValueError\u001b[0m                                Traceback (most recent call last)",
            "Cell \u001b[0;32mIn[32], line 1\u001b[0m\n\u001b[0;32m----> 1\u001b[0m \u001b[43mA\u001b[49m\u001b[38;5;241;43m*\u001b[39;49m\u001b[43mC\u001b[49m \u001b[38;5;66;03m# Niepoprawne, wymiary nie są zgodne\u001b[39;00m\n",
            "\u001b[0;31mValueError\u001b[0m: operands could not be broadcast together with shapes (4,3) (3,4) "
          ]
        }
      ],
      "source": [
        "A*C # Niepoprawne, wymiary nie są zgodne"
      ]
    },
    {
      "cell_type": "code",
      "execution_count": 33,
      "id": "medium-raise",
      "metadata": {
        "trusted": true
      },
      "outputs": [
        {
          "data": {
            "text/plain": [
              "array([[152, 158, 164, 170],\n",
              "       [368, 383, 398, 413],\n",
              "       [584, 608, 632, 656],\n",
              "       [800, 833, 866, 899]])"
            ]
          },
          "execution_count": 33,
          "metadata": {},
          "output_type": "execute_result"
        }
      ],
      "source": [
        "np.dot(A,C) # Mnożenie macierzowe macierzy"
      ]
    },
    {
      "cell_type": "code",
      "execution_count": 34,
      "id": "harmful-programmer",
      "metadata": {
        "trusted": true
      },
      "outputs": [
        {
          "data": {
            "text/plain": [
              "array([[152, 158, 164, 170],\n",
              "       [368, 383, 398, 413],\n",
              "       [584, 608, 632, 656],\n",
              "       [800, 833, 866, 899]])"
            ]
          },
          "execution_count": 34,
          "metadata": {},
          "output_type": "execute_result"
        }
      ],
      "source": [
        "A @ C # Inny zapis, Python 3.5+"
      ]
    },
    {
      "cell_type": "code",
      "execution_count": 35,
      "id": "gorgeous-module",
      "metadata": {
        "trusted": true
      },
      "outputs": [
        {
          "data": {
            "text/plain": [
              "array([[ 1,  4,  7, 10],\n",
              "       [ 2,  5,  8, 11],\n",
              "       [ 3,  6,  9, 12]])"
            ]
          },
          "execution_count": 35,
          "metadata": {},
          "output_type": "execute_result"
        }
      ],
      "source": [
        "A.T # Macierz transponowana"
      ]
    },
    {
      "cell_type": "code",
      "execution_count": 36,
      "id": "competitive-inspection",
      "metadata": {
        "trusted": true
      },
      "outputs": [
        {
          "data": {
            "text/plain": [
              "array([[ 1,  4,  7, 10],\n",
              "       [ 2,  5,  8, 11],\n",
              "       [ 3,  6,  9, 12]])"
            ]
          },
          "execution_count": 36,
          "metadata": {},
          "output_type": "execute_result"
        }
      ],
      "source": [
        "np.transpose(A)"
      ]
    },
    {
      "cell_type": "markdown",
      "id": "revolutionary-church",
      "metadata": {},
      "source": [
        "***Zadanie 2.***  \n",
        "Zadeklaruj macierz \n",
        "$\\mathbf{M} =\\left[ \\begin{matrix}\n",
        "\\sqrt{2} & 1 & -\\sqrt{2}\\\\\n",
        "0 & 1 & 1\\\\\n",
        "-\\sqrt{2} & \\sqrt{2} & 1\n",
        "\\end{matrix}\\right]\n",
        "$    \n",
        "Wyznacz numerycznie jej macierz odwrotną (*np.linalg.inv*) i transponowaną. Oblicz wyznacznik tej macierzy (*np.linalg.det()*). Wypisz otrzymane wyniki. "
      ]
    },
    {
      "cell_type": "code",
      "execution_count": 37,
      "id": "alpine-breakdown",
      "metadata": {
        "trusted": true
      },
      "outputs": [
        {
          "name": "stdout",
          "output_type": "stream",
          "text": [
            "[[ 1.41421356  1.         -1.41421356]\n",
            " [ 0.          1.          1.        ]\n",
            " [-1.41421356  1.41421356  1.        ]]\n"
          ]
        }
      ],
      "source": [
        "M = np.array(([np.sqrt(2),1,-np.sqrt(2)],[0,1,1],[-np.sqrt(2),np.sqrt(2),1]))\n",
        "print(M)\n"
      ]
    },
    {
      "cell_type": "code",
      "execution_count": 38,
      "id": "2442fe61-9b4e-4ca0-af3a-0f93fb62f435",
      "metadata": {
        "trusted": true
      },
      "outputs": [
        {
          "name": "stdout",
          "output_type": "stream",
          "text": [
            "[[ 0.10355339  0.75       -0.60355339]\n",
            " [ 0.35355339  0.14644661  0.35355339]\n",
            " [-0.35355339  0.85355339 -0.35355339]]\n"
          ]
        }
      ],
      "source": [
        "\n",
        "L = np.linalg.inv(M)\n",
        "print(L)\n",
        "\n"
      ]
    },
    {
      "cell_type": "code",
      "execution_count": 39,
      "id": "5bc78633-850d-42d5-a808-af62a8a7f465",
      "metadata": {
        "trusted": true
      },
      "outputs": [
        {
          "name": "stdout",
          "output_type": "stream",
          "text": [
            "-4.0\n"
          ]
        }
      ],
      "source": [
        "\n",
        "K = np.linalg.det(M)\n",
        "print(K)\n"
      ]
    },
    {
      "cell_type": "markdown",
      "id": "radio-terry",
      "metadata": {},
      "source": [
        "# Wizualizacja danych"
      ]
    },
    {
      "cell_type": "markdown",
      "id": "numeric-premiere",
      "metadata": {},
      "source": [
        "Do wizualizacji wyników, tworzenia wykresów itd. wykorzystamy bibliotekę *matplotlib*, a konkretniej jej stanowe i obiektowe API zwane *pyplot*. Zwyczajowo importu dokonuje się w następujący sposób:"
      ]
    },
    {
      "cell_type": "code",
      "execution_count": 40,
      "id": "leading-newark",
      "metadata": {
        "trusted": true
      },
      "outputs": [
        {
          "name": "stderr",
          "output_type": "stream",
          "text": [
            "Matplotlib is building the font cache; this may take a moment.\n"
          ]
        }
      ],
      "source": [
        "import matplotlib.pyplot as plt"
      ]
    },
    {
      "cell_type": "markdown",
      "id": "silver-partnership",
      "metadata": {},
      "source": [
        "Tworzenie wykresu rozpoczyna się od utworzenia \"okna\":"
      ]
    },
    {
      "cell_type": "code",
      "execution_count": 41,
      "id": "mounted-dream",
      "metadata": {
        "trusted": true
      },
      "outputs": [
        {
          "data": {
            "text/plain": [
              "<Figure size 640x480 with 0 Axes>"
            ]
          },
          "metadata": {},
          "output_type": "display_data"
        }
      ],
      "source": [
        "fig = plt.figure()"
      ]
    },
    {
      "cell_type": "markdown",
      "id": "driven-restriction",
      "metadata": {},
      "source": [
        "Następnie można skorzystać z jednej z dostępnych metod wizualizacji. Do stworzenia wykresu potrzebne będą też dane. Funkcja *plt.plot()* pozwala wyświetlić dane przekazane w postaci tablic (np. tablic punktów X i Y)."
      ]
    },
    {
      "cell_type": "code",
      "execution_count": 42,
      "id": "communist-contributor",
      "metadata": {
        "trusted": true
      },
      "outputs": [],
      "source": [
        "X = np.linspace(0,2*np.pi, 1000)\n",
        "Y = np.sin(X)"
      ]
    },
    {
      "cell_type": "code",
      "execution_count": 43,
      "id": "further-energy",
      "metadata": {
        "trusted": true
      },
      "outputs": [
        {
          "data": {
            "text/plain": [
              "[<matplotlib.lines.Line2D at 0x422d3f8>]"
            ]
          },
          "execution_count": 43,
          "metadata": {},
          "output_type": "execute_result"
        },
        {
          "data": {
            "image/png": "[encoded data removed]",
            "text/plain": [
              "<Figure size 640x480 with 1 Axes>"
            ]
          },
          "metadata": {},
          "output_type": "display_data"
        }
      ],
      "source": [
        "plt.plot(X,Y)"
      ]
    },
    {
      "cell_type": "markdown",
      "id": "romantic-alcohol",
      "metadata": {},
      "source": [
        "Wykresy można również personalizować."
      ]
    },
    {
      "cell_type": "code",
      "execution_count": 44,
      "id": "composite-victory",
      "metadata": {
        "trusted": true
      },
      "outputs": [
        {
          "data": {
            "text/plain": [
              "Text(0, 0.5, 'sin(x)')"
            ]
          },
          "execution_count": 44,
          "metadata": {},
          "output_type": "execute_result"
        },
        {
          "data": {
            "image/png": "[encoded data removed]",
            "text/plain": [
              "<Figure size 640x480 with 1 Axes>"
            ]
          },
          "metadata": {},
          "output_type": "display_data"
        }
      ],
      "source": [
        "plt.plot(X,Y)\n",
        "plt.title('Wykres $sin(x)$')\n",
        "plt.xlim([0,2*np.pi])\n",
        "plt.xlabel('x')\n",
        "plt.ylabel('sin(x)')\n"
      ]
    },
    {
      "cell_type": "markdown",
      "id": "progressive-equivalent",
      "metadata": {},
      "source": [
        "Na jednym wykresie można pokazać kilka ,,obiektów''. Możliwe jest również dodanie siatki i legendy (treści ,,matematyczne'' wstawiamy między dolarami)."
      ]
    },
    {
      "cell_type": "code",
      "execution_count": 45,
      "id": "optical-toolbox",
      "metadata": {
        "trusted": true
      },
      "outputs": [
        {
          "data": {
            "text/plain": [
              "<matplotlib.lines.Line2D at 0x44cfc08>"
            ]
          },
          "execution_count": 45,
          "metadata": {},
          "output_type": "execute_result"
        },
        {
          "data": {
            "image/png": "[encoded data removed]",
            "text/plain": [
              "<Figure size 1400x1000 with 1 Axes>"
            ]
          },
          "metadata": {},
          "output_type": "display_data"
        }
      ],
      "source": [
        "plt.figure(figsize=(14,10)) # Stworzenie ,,większego'' okna\n",
        "X = np.linspace(-10,10, 1000)\n",
        "\n",
        "plt.plot(X,X**2, label = '$x^2$') # W argumencie label umieszcza się nazwy krzywych do legendy\n",
        "plt.plot(X,X**3, label = '$x^3$')\n",
        "plt.plot(X,np.tan(X), label = '$tg(x)$')\n",
        "plt.xlim([-10,10])\n",
        "plt.ylim([-100,100])\n",
        "plt.xlabel('x')\n",
        "plt.grid() # Wyświetlanie siatki\n",
        "plt.legend() # Dodanie legendy\n",
        "plt.axhline(y=0, color='k') # Dodanie osi x = 0\n",
        "plt.axvline(x=0, color='k') # Dodanie osi y = 0"
      ]
    },
    {
      "cell_type": "markdown",
      "id": "lesbian-recognition",
      "metadata": {},
      "source": [
        "Dane na wykresie niekoniecznie muszą mieć formę krzywych"
      ]
    },
    {
      "cell_type": "code",
      "execution_count": 46,
      "id": "abroad-thought",
      "metadata": {
        "trusted": true
      },
      "outputs": [
        {
          "data": {
            "text/plain": [
              "Text(0, 0.5, 'sin(x)')"
            ]
          },
          "execution_count": 46,
          "metadata": {},
          "output_type": "execute_result"
        },
        {
          "data": {
            "image/png": "[encoded data removed]",
            "text/plain": [
              "<Figure size 640x480 with 1 Axes>"
            ]
          },
          "metadata": {},
          "output_type": "display_data"
        }
      ],
      "source": [
        "plt.figure()\n",
        "X = np.linspace(0,2*np.pi, 50)\n",
        "plt.plot(X,np.sin(X), '*')\n",
        "plt.title('Wykres $sin(x)$')\n",
        "plt.xlim([0,2*np.pi])\n",
        "plt.xlabel('x')\n",
        "plt.ylabel('sin(x)')\n"
      ]
    },
    {
      "cell_type": "code",
      "execution_count": 47,
      "id": "legislative-swiss",
      "metadata": {
        "trusted": true
      },
      "outputs": [
        {
          "data": {
            "text/plain": [
              "Text(0, 0.5, 'sin(x)')"
            ]
          },
          "execution_count": 47,
          "metadata": {},
          "output_type": "execute_result"
        },
        {
          "data": {
            "image/png": "[encoded data removed]",
            "text/plain": [
              "<Figure size 640x480 with 1 Axes>"
            ]
          },
          "metadata": {},
          "output_type": "display_data"
        }
      ],
      "source": [
        "plt.figure()\n",
        "X = np.linspace(0,2*np.pi, 50)\n",
        "plt.plot(X,np.sin(X), 'r+')\n",
        "plt.title('Wykres $sin(x)$')\n",
        "plt.xlim([0,2*np.pi])\n",
        "plt.xlabel('x')\n",
        "plt.ylabel('sin(x)')"
      ]
    },
    {
      "cell_type": "markdown",
      "id": "killing-ensemble",
      "metadata": {},
      "source": [
        "***Zadanie 3.***\n",
        "\n",
        "Zdefinuj funkcję \n",
        "$f(x) = x^3 - 5x + 7$\n",
        "i stwórz jej wykresy w przedziałach:\n",
        "* $x\\in<-1,1>$ \n",
        "* $x\\in<-10,20>$\n",
        "\n",
        "Spersonalizuj wykresy: dodaj tytuły, opisy osi etc."
      ]
    },
    {
      "cell_type": "code",
      "execution_count": 48,
      "id": "balanced-gazette",
      "metadata": {
        "trusted": true
      },
      "outputs": [
        {
          "data": {
            "text/plain": [
              "<matplotlib.legend.Legend at 0x58c8398>"
            ]
          },
          "execution_count": 48,
          "metadata": {},
          "output_type": "execute_result"
        },
        {
          "data": {
            "image/png": "[encoded data removed]",
            "text/plain": [
              "<Figure size 640x480 with 1 Axes>"
            ]
          },
          "metadata": {},
          "output_type": "display_data"
        }
      ],
      "source": [
        "\n",
        "X = np.linspace(-1,1, 100)\n",
        "plt.plot(X,X**3-5*X+7, label = '$x^3 - 5x + 7$') # W argumencie label umieszcza się nazwy krzywych do legendy\n",
        "plt.title('Wykres $f(x) = x^3 - 5x + 7$')\n",
        "plt.xlim([-1,1])\n",
        "plt.xlim([-10,20])\n",
        "plt.xlabel('x')\n",
        "plt.ylabel('Y')\n",
        "plt.legend() \n"
      ]
    },
    {
      "cell_type": "code",
      "execution_count": 49,
      "id": "2b8a765c-e1dd-4799-aae8-f13509564ad2",
      "metadata": {
        "trusted": true
      },
      "outputs": [
        {
          "data": {
            "text/plain": [
              "<matplotlib.legend.Legend at 0x509cf18>"
            ]
          },
          "execution_count": 49,
          "metadata": {},
          "output_type": "execute_result"
        },
        {
          "data": {
            "image/png": "[encoded data removed]",
            "text/plain": [
              "<Figure size 640x480 with 1 Axes>"
            ]
          },
          "metadata": {},
          "output_type": "display_data"
        }
      ],
      "source": [
        "X = np.linspace(-10,20, 100)\n",
        "plt.plot(X,X**3-5*X+7, label = '$x^3 - 5x + 7$') # W argumencie label umieszcza się nazwy krzywych do legendy\n",
        "plt.title('Wykres $f(x) = x^3 - 5x + 7$')\n",
        "plt.xlim([-1,1])\n",
        "plt.xlim([-10,20])\n",
        "plt.xlabel('x')\n",
        "plt.ylabel('Y')\n",
        "plt.legend() \n"
      ]
    },
    {
      "cell_type": "markdown",
      "id": "c7370153",
      "metadata": {},
      "source": [
        "# Wizualizacja macierzy"
      ]
    },
    {
      "cell_type": "markdown",
      "id": "37c7cb34",
      "metadata": {},
      "source": [
        "W obliczeniach numerycznych często pojawia się potrzeba porównania zawartości dwóch macierzy lub wektorów. Jednym z prostych rozwiązań jest przedstawienie obu macierzy w postaci „graficznej”, w której kolory reprezentują wartości znajdujące się w macierzy."
      ]
    },
    {
      "cell_type": "code",
      "execution_count": 50,
      "id": "6eb7bdd3",
      "metadata": {
        "trusted": true
      },
      "outputs": [
        {
          "data": {
            "text/plain": [
              "Text(0.5, 1.0, 'Macierz B')"
            ]
          },
          "execution_count": 50,
          "metadata": {},
          "output_type": "execute_result"
        },
        {
          "data": {
            "image/png": "[encoded data removed]",
            "text/plain": [
              "<Figure size 640x480 with 2 Axes>"
            ]
          },
          "metadata": {},
          "output_type": "display_data"
        }
      ],
      "source": [
        "A = np.identity(5)\n",
        "B = np.diag([1,1,1,1,1])\n",
        "\n",
        "plt.subplot(1,2,1)\n",
        "plt.imshow(A)\n",
        "plt.title('Macierz A')\n",
        "\n",
        "plt.subplot(1,2,2)\n",
        "plt.imshow(B)\n",
        "plt.title('Macierz B')"
      ]
    },
    {
      "cell_type": "markdown",
      "id": "5c636dc0",
      "metadata": {},
      "source": [
        "Uwaga: kolorystykę można dostoswać za pomocą argumentu `cmap` (np. `cmap='gray'`)"
      ]
    },
    {
      "cell_type": "markdown",
      "id": "3e1e7c46",
      "metadata": {},
      "source": [
        "***Zadanie 4.***\n",
        "\n",
        "Zastanów się nad innymi sposobami porównywania macierzy. Jak można to zrobić, jak łatwo ocenić czy dwie macierze zawierają te same/podobne wartości?"
      ]
    },
    {
      "cell_type": "code",
      "execution_count": 63,
      "id": "c90d4565",
      "metadata": {
        "trusted": true
      },
      "outputs": [
        {
          "data": {
            "text/plain": [
              "np.False_"
            ]
          },
          "execution_count": 63,
          "metadata": {},
          "output_type": "execute_result"
        }
      ],
      "source": [
        "np.array_equal(a, b)\n",
        "np.allclose(a, b)\n",
        "np.isclose(a, b)\n"
      ]
    },
    {
      "cell_type": "markdown",
      "id": "1e6c70b8",
      "metadata": {},
      "source": [
        "***Zadanie 5.***\n",
        "\n",
        "Stwórz kwadratową macierz wartości losowych o wymarach 10x10. Następnie przeprowadź jej rozklad QR za pomocą funkcji [`scipy.linalg.qr`](https://docs.scipy.org/doc/scipy/reference/generated/scipy.linalg.qr.html) (sprawdź, w dokumentacji jak działa ta funkcja oraz jakie wartości zwraca). W wyniku rozkładu otrzymasz dwie macierze `Q` i `R` (szczegóły na jednych z kolejnych zajęć). Następnie przypisz macierz Q do zmiennej i wyznacz jej **transpozycję** ($Q^T$) oraz **odwrotność** ($Q^{-1}$). Porównaj ze sobą te dwie macierz. Jaki wynik otrzymałeś i dlaczego? Powtórz obliczenia kilkukrotnie dla macierzy o różnych rozmiarach."
      ]
    },
    {
      "cell_type": "code",
      "execution_count": 2,
      "id": "b37cfb6f",
      "metadata": {
        "trusted": true
      },
      "outputs": [
        {
          "name": "stdout",
          "output_type": "stream",
          "text": [
            "Macierz A:\n",
            "[[ 3  2  8 10  6  6  5  5  2  5]\n",
            " [10  9  6  4  7  7  3  7  6  3]\n",
            " [ 8  4  0  7  0  5  4  6  6  8]\n",
            " [ 9  3  0  4  8  1  7  9  6  4]\n",
            " [ 1  5  4  7  3  3  4  0  7  2]\n",
            " [ 0  3  1  7  7 10  9  9  4  0]\n",
            " [ 2  9  5  3  2 10  8  0  2  6]\n",
            " [10  0  3  4 10  2  8  8  4  6]\n",
            " [ 5  3  7  9  3 10  0  2  5  3]\n",
            " [10  5  9  9  1  8  2  2  7  4]]\n",
            "Czy A ≈ Q * R: True\n",
            "Kształt Q: (10, 10)\n",
            "Kształt R: (10, 10)\n",
            "Transpozycja Q^T:\n",
            "[[-0.13636364 -0.45454545 -0.36363636 -0.40909091 -0.04545455 -0.\n",
            "  -0.09090909 -0.45454545 -0.22727273 -0.45454545]\n",
            " [-0.04218864 -0.33998042  0.00141217  0.12974331 -0.38428732 -0.25630923\n",
            "  -0.68313824  0.42894727 -0.0418356   0.00176522]\n",
            " [ 0.59918594 -0.14245748 -0.40623602 -0.37495795  0.09248628 -0.06675551\n",
            "  -0.05240126  0.05780906  0.40026732  0.36844157]\n",
            " [ 0.25712422 -0.41710206  0.44987217  0.13960385  0.29909757  0.58029045\n",
            "  -0.23668649 -0.09336616  0.17820527 -0.12388534]\n",
            " [-0.20447647 -0.18938325  0.52568655 -0.25155153 -0.04323811 -0.40105169\n",
            "  -0.04948191 -0.44335504  0.1185012   0.45489796]\n",
            " [ 0.26565119  0.06301588 -0.0342934   0.24409666  0.66112455 -0.45954879\n",
            "  -0.24586444 -0.10792583 -0.37574372 -0.05610539]\n",
            " [-0.13682862  0.53217894 -0.09162228  0.00640602  0.02599574  0.0301635\n",
            "  -0.52801945 -0.34405846  0.49139919 -0.22223476]\n",
            " [ 0.49047945  0.30964562  0.12991522 -0.0599185  -0.44615845  0.21083306\n",
            "  -0.18093388 -0.30074907 -0.50952094  0.12951718]\n",
            " [-0.42652131  0.02503509 -0.30089694 -0.07219981  0.2587354   0.4183852\n",
            "  -0.27953751  0.00790358 -0.27765268  0.56957541]\n",
            " [ 0.02991071 -0.25293255 -0.32713906  0.72389445 -0.21589746 -0.02604085\n",
            "   0.11709263 -0.42453878  0.14568531  0.20403292]]\n",
            "Odwrotność Q^-1:\n",
            "[[-0.13636364 -0.45454545 -0.36363636 -0.40909091 -0.04545455 -0.\n",
            "  -0.09090909 -0.45454545 -0.22727273 -0.45454545]\n",
            " [-0.04218864 -0.33998042  0.00141217  0.12974331 -0.38428732 -0.25630923\n",
            "  -0.68313824  0.42894727 -0.0418356   0.00176522]\n",
            " [ 0.59918594 -0.14245748 -0.40623602 -0.37495795  0.09248628 -0.06675551\n",
            "  -0.05240126  0.05780906  0.40026732  0.36844157]\n",
            " [ 0.25712422 -0.41710206  0.44987217  0.13960385  0.29909757  0.58029045\n",
            "  -0.23668649 -0.09336616  0.17820527 -0.12388534]\n",
            " [-0.20447647 -0.18938325  0.52568655 -0.25155153 -0.04323811 -0.40105169\n",
            "  -0.04948191 -0.44335504  0.1185012   0.45489796]\n",
            " [ 0.26565119  0.06301588 -0.0342934   0.24409666  0.66112455 -0.45954879\n",
            "  -0.24586444 -0.10792583 -0.37574372 -0.05610539]\n",
            " [-0.13682862  0.53217894 -0.09162228  0.00640602  0.02599574  0.0301635\n",
            "  -0.52801945 -0.34405846  0.49139919 -0.22223476]\n",
            " [ 0.49047945  0.30964562  0.12991522 -0.0599185  -0.44615845  0.21083306\n",
            "  -0.18093388 -0.30074907 -0.50952094  0.12951718]\n",
            " [-0.42652131  0.02503509 -0.30089694 -0.07219981  0.2587354   0.4183852\n",
            "  -0.27953751  0.00790358 -0.27765268  0.56957541]\n",
            " [ 0.02991071 -0.25293255 -0.32713906  0.72389445 -0.21589746 -0.02604085\n",
            "   0.11709263 -0.42453878  0.14568531  0.20403292]]\n",
            "Czy Q^T ≈ Q^-1: True\n",
            "Dla macierzy 5x5: Q^T ≈ Q^-1: True\n",
            "Dla macierzy 7x7: Q^T ≈ Q^-1: True\n",
            "Dla macierzy 12x12: Q^T ≈ Q^-1: True\n"
          ]
        }
      ],
      "source": [
        "import numpy as np\n",
        "from scipy import linalg\n",
        "\n",
        "# Generowanie losowej macierzy kwadratowej 10x10\n",
        "matrix = np.random.randint(0, 11, size=(10, 10))\n",
        "print(\"Macierz A:\")\n",
        "print(matrix)\n",
        "\n",
        "# Rozkład QR\n",
        "q, r = linalg.qr(matrix)\n",
        "\n",
        "# Sprawdzenie poprawności rozkładu: A ≈ Q * R\n",
        "print(\"Czy A ≈ Q * R:\", np.allclose(matrix, np.dot(q, r)))\n",
        "\n",
        "# Kształty macierzy Q i R\n",
        "print(\"Kształt Q:\", q.shape)\n",
        "print(\"Kształt R:\", r.shape)\n",
        "\n",
        "# Transpozycja macierzy Q\n",
        "q_T = q.T\n",
        "print(\"Transpozycja Q^T:\")\n",
        "print(q_T)\n",
        "\n",
        "# Odwrotność macierzy Q\n",
        "q_inv = np.linalg.inv(q)\n",
        "print(\"Odwrotność Q^-1:\")\n",
        "print(q_inv)\n",
        "\n",
        "# Porównanie transpozycji i odwrotności\n",
        "comparison = np.allclose(q_T, q_inv)\n",
        "print(\"Czy Q^T ≈ Q^-1:\", comparison)\n",
        "\n",
        "# Powtórzenie dla różnych rozmiarów macierzy\n",
        "for size in [5, 7, 12]:\n",
        "    matrix = np.random.randint(0, 11, size=(size, size))\n",
        "    q, _ = linalg.qr(matrix)\n",
        "    print(f\"Dla macierzy {size}x{size}: Q^T ≈ Q^-1:\", np.allclose(q.T, np.linalg.inv(q)))\n",
        "\n"
      ]
    },
    {
      "cell_type": "code",
      "execution_count": null,
      "id": "e0a6656b",
      "metadata": {
        "trusted": true
      },
      "outputs": [],
      "source": []
    }
  ],
  "metadata": {
    "kernelspec": {
      "display_name": "Python 3",
      "language": "python",
      "name": "python3"
    },
    "language_info": {
      "codemirror_mode": {
        "name": "ipython",
        "version": 3
      },
      "file_extension": ".py",
      "mimetype": "text/x-python",
      "name": "python",
      "nbconvert_exporter": "python",
      "pygments_lexer": "ipython3",
      "version": "3.12.0"
    }
  },
  "nbformat": 4,
  "nbformat_minor": 5
}
